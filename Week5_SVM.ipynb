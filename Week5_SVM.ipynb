{
  "cells": [
    {
      "cell_type": "markdown",
      "id": "9ad88f3e",
      "metadata": {
        "id": "9ad88f3e"
      },
      "source": [
        "# Multiclass SVM 구현"
      ]
    },
    {
      "cell_type": "markdown",
      "source": [
        "### 데이터 불러오기"
      ],
      "metadata": {
        "id": "EF0U9XWGZZLf"
      },
      "id": "EF0U9XWGZZLf"
    },
    {
      "cell_type": "code",
      "execution_count": 1,
      "id": "1ee53277",
      "metadata": {
        "colab": {
          "base_uri": "https://localhost:8080/"
        },
        "id": "1ee53277",
        "outputId": "6af3fd3e-d0a8-46f3-c520-9413229e5b4b"
      },
      "outputs": [
        {
          "output_type": "stream",
          "name": "stdout",
          "text": [
            "0         setosa\n",
            "1         setosa\n",
            "2         setosa\n",
            "3         setosa\n",
            "4         setosa\n",
            "         ...    \n",
            "145    virginica\n",
            "146    virginica\n",
            "147    virginica\n",
            "148    virginica\n",
            "149    virginica\n",
            "Name: species, Length: 150, dtype: object\n"
          ]
        }
      ],
      "source": [
        "import numpy as np\n",
        "import pandas as pd\n",
        "import matplotlib.pyplot as plt\n",
        "import seaborn as sns\n",
        "from sklearn.svm import SVC\n",
        "from sklearn.model_selection import train_test_split\n",
        "from sklearn.pipeline import Pipeline\n",
        "from sklearn.preprocessing import StandardScaler\n",
        "from sklearn.metrics import accuracy_score\n",
        "\n",
        "#IRIS 데이터 로드\n",
        "iris =  sns.load_dataset('iris') \n",
        "X= iris.iloc[:,:4] #학습할데이터\n",
        "y = iris.iloc[:,-1] #타겟\n",
        "print(y)"
      ]
    },
    {
      "cell_type": "code",
      "execution_count": 2,
      "id": "57c67bc8",
      "metadata": {
        "id": "57c67bc8"
      },
      "outputs": [],
      "source": [
        "X_train, X_test, y_train, y_test = train_test_split(X, y, test_size=0.2, random_state=48)"
      ]
    },
    {
      "cell_type": "code",
      "execution_count": 3,
      "id": "88a4203d",
      "metadata": {
        "id": "88a4203d"
      },
      "outputs": [],
      "source": [
        "def standardization(train, test):\n",
        "    scaler = StandardScaler()\n",
        "    train = scaler.fit_transform(train)\n",
        "    test = scaler.transform(test)\n",
        "    return train, test\n",
        "\n",
        "X_train, X_test = standardization(X_train, X_test)"
      ]
    },
    {
      "cell_type": "code",
      "execution_count": 4,
      "id": "403590f5",
      "metadata": {
        "colab": {
          "base_uri": "https://localhost:8080/"
        },
        "id": "403590f5",
        "outputId": "bcf29c8f-5466-47c5-89fd-70a401b93bc9"
      },
      "outputs": [
        {
          "output_type": "execute_result",
          "data": {
            "text/plain": [
              "array([[ 0.78522493,  0.32015325,  0.77221097,  1.04726529],\n",
              "       [-0.26563371, -1.29989934,  0.0982814 , -0.11996537],\n",
              "       [ 0.43493872,  0.78302542,  0.94069336,  1.43634218],\n",
              "       [-0.84944407,  0.78302542, -1.24957775, -1.28719604],\n",
              "       [-0.38239578, -1.7627715 ,  0.15444219,  0.13941922],\n",
              "       [ 0.55170079, -0.374155  ,  1.05301496,  0.7878807 ],\n",
              "       [ 0.31817664, -0.14271892,  0.65988937,  0.7878807 ],\n",
              "       [ 0.20141457, -0.374155  ,  0.43524618,  0.39880381],\n",
              "       [-1.66677857, -0.14271892, -1.36189934, -1.28719604],\n",
              "       [-0.14887164, -0.60559109,  0.21060299,  0.13941922],\n",
              "       [-0.14887164, -1.06846325, -0.12636179, -0.24965767],\n",
              "       [ 0.31817664, -0.60559109,  0.15444219,  0.13941922],\n",
              "       [ 0.66846286, -0.83702717,  0.88453256,  0.91757299],\n",
              "       [ 0.0846525 , -0.14271892,  0.77221097,  0.7878807 ],\n",
              "       [-0.49915786, -0.14271892,  0.43524618,  0.39880381],\n",
              "       [-0.26563371, -0.60559109,  0.65988937,  1.04726529],\n",
              "       [ 2.18636979,  1.70876975,  1.67078373,  1.30664988],\n",
              "       [-0.49915786,  1.94020584, -1.13725615, -1.02781144],\n",
              "       [-0.96620614,  1.0144615 , -1.36189934, -1.15750374],\n",
              "       [ 1.60255943,  0.32015325,  1.27765815,  0.7878807 ],\n",
              "       [-0.84944407,  1.70876975, -1.02493456, -1.02781144],\n",
              "       [ 0.901987  , -0.14271892,  0.37908538,  0.26911151],\n",
              "       [-1.19973028,  0.78302542, -1.02493456, -1.28719604],\n",
              "       [-0.61591993,  1.47733367, -1.24957775, -1.28719604],\n",
              "       [-0.49915786,  1.47733367, -1.24957775, -1.28719604],\n",
              "       [-0.03210957, -0.83702717,  0.77221097,  0.91757299],\n",
              "       [-1.31649236,  0.32015325, -1.19341695, -1.28719604],\n",
              "       [ 1.25227322,  0.08871717,  0.94069336,  1.17695758],\n",
              "       [-1.08296821,  0.08871717, -1.24957775, -1.41688833],\n",
              "       [-1.08296821, -1.29989934,  0.43524618,  0.6581884 ],\n",
              "       [ 0.43493872, -0.374155  ,  0.32292459,  0.13941922],\n",
              "       [ 1.60255943,  1.24589758,  1.33381894,  1.69572677],\n",
              "       [ 0.31817664, -0.374155  ,  0.54756778,  0.26911151],\n",
              "       [ 1.83608357, -0.60559109,  1.33381894,  0.91757299],\n",
              "       [-0.03210957, -0.83702717,  0.0982814 ,  0.00972692],\n",
              "       [ 0.20141457, -1.99420759,  0.71605017,  0.39880381],\n",
              "       [ 1.01874907,  0.08871717,  1.05301496,  1.56603447],\n",
              "       [-0.84944407,  1.0144615 , -1.30573855, -1.15750374],\n",
              "       [-0.14887164, -0.14271892,  0.26676379,  0.00972692],\n",
              "       [-0.38239578, -1.53133542,  0.0421206 , -0.11996537],\n",
              "       [ 0.55170079, -1.29989934,  0.71605017,  0.91757299],\n",
              "       [ 1.48579736, -0.14271892,  1.22149735,  1.17695758],\n",
              "       [-0.38239578, -1.06846325,  0.37908538,  0.00972692],\n",
              "       [-0.96620614, -1.7627715 , -0.23868339, -0.24965767],\n",
              "       [ 1.25227322,  0.08871717,  0.77221097,  1.43634218],\n",
              "       [ 0.66846286, -0.60559109,  1.05301496,  1.17695758],\n",
              "       [ 0.43493872, -1.99420759,  0.43524618,  0.39880381],\n",
              "       [-0.14887164, -0.60559109,  0.43524618,  0.13941922],\n",
              "       [-0.732682  , -0.83702717,  0.0982814 ,  0.26911151],\n",
              "       [ 2.06960772, -0.14271892,  1.61462293,  1.17695758],\n",
              "       [ 1.13551115, -0.60559109,  0.60372857,  0.26911151],\n",
              "       [-0.84944407, -1.29989934, -0.40716578, -0.11996537],\n",
              "       [-0.14887164, -1.29989934,  0.71605017,  1.04726529],\n",
              "       [ 0.66846286, -0.374155  ,  0.32292459,  0.13941922],\n",
              "       [ 1.01874907,  0.08871717,  0.37908538,  0.26911151],\n",
              "       [-0.26563371, -0.83702717,  0.26676379,  0.13941922],\n",
              "       [ 1.25227322,  0.08871717,  0.65988937,  0.39880381],\n",
              "       [-0.84944407,  0.55158933, -1.13725615, -0.89811915],\n",
              "       [-1.08296821, -0.14271892, -1.30573855, -1.28719604],\n",
              "       [ 0.20141457, -0.83702717,  0.77221097,  0.52849611],\n",
              "       [-1.08296821, -1.53133542, -0.23868339, -0.24965767],\n",
              "       [-0.03210957,  2.17164192, -1.41806014, -1.28719604],\n",
              "       [-0.96620614,  1.0144615 , -1.19341695, -0.76842685],\n",
              "       [ 0.55170079, -0.83702717,  0.65988937,  0.7878807 ],\n",
              "       [ 1.7193215 , -0.374155  ,  1.44614054,  0.7878807 ],\n",
              "       [-0.732682  ,  2.403078  , -1.24957775, -1.41688833],\n",
              "       [-0.14887164,  3.09738625, -1.24957775, -1.02781144],\n",
              "       [ 1.13551115, -0.14271892,  0.99685416,  1.17695758],\n",
              "       [-1.43325443,  0.08871717, -1.24957775, -1.28719604],\n",
              "       [-0.03210957, -0.83702717,  0.21060299, -0.24965767],\n",
              "       [ 1.01874907, -0.14271892,  0.82837177,  1.43634218],\n",
              "       [ 1.36903529,  0.32015325,  0.54756778,  0.26911151],\n",
              "       [-0.96620614,  0.32015325, -1.41806014, -1.28719604],\n",
              "       [-0.96620614,  0.78302542, -1.24957775, -1.28719604],\n",
              "       [ 0.55170079,  0.55158933,  1.27765815,  1.69572677],\n",
              "       [ 2.18636979, -0.60559109,  1.67078373,  1.04726529],\n",
              "       [ 0.0846525 , -0.14271892,  0.26676379,  0.39880381],\n",
              "       [-1.31649236,  0.32015325, -1.36189934, -1.28719604],\n",
              "       [ 0.66846286,  0.32015325,  0.88453256,  1.43634218],\n",
              "       [-0.96620614,  0.78302542, -1.19341695, -1.02781144],\n",
              "       [ 0.20141457,  0.78302542,  0.43524618,  0.52849611],\n",
              "       [-1.19973028, -0.14271892, -1.30573855, -1.41688833],\n",
              "       [ 1.01874907,  0.55158933,  1.10917575,  1.17695758],\n",
              "       [ 0.78522493, -0.60559109,  0.49140698,  0.39880381],\n",
              "       [-1.43325443,  1.24589758, -1.53038174, -1.28719604],\n",
              "       [-0.03210957, -0.60559109,  0.77221097,  1.56603447],\n",
              "       [-1.78354064, -0.14271892, -1.47422094, -1.41688833],\n",
              "       [ 1.01874907, -1.29989934,  1.16533655,  0.7878807 ],\n",
              "       [-1.08296821,  1.24589758, -1.30573855, -1.41688833],\n",
              "       [-0.49915786,  1.94020584, -1.36189934, -1.02781144],\n",
              "       [-1.43325443,  0.32015325, -1.30573855, -1.28719604],\n",
              "       [-0.03210957, -0.83702717,  0.77221097,  0.91757299],\n",
              "       [ 0.55170079, -0.60559109,  0.77221097,  0.39880381],\n",
              "       [-0.96620614,  0.55158933, -1.30573855, -1.28719604],\n",
              "       [ 2.41989393,  1.70876975,  1.50230134,  1.04726529],\n",
              "       [-1.66677857,  0.32015325, -1.36189934, -1.28719604],\n",
              "       [-1.19973028, -0.14271892, -1.30573855, -1.15750374],\n",
              "       [ 1.01874907,  0.55158933,  1.10917575,  1.69572677],\n",
              "       [-0.96620614, -2.45707976, -0.12636179, -0.24965767],\n",
              "       [-0.732682  ,  1.0144615 , -1.24957775, -1.28719604],\n",
              "       [ 2.18636979, -1.06846325,  1.78310533,  1.43634218],\n",
              "       [ 1.13551115,  0.32015325,  1.22149735,  1.43634218],\n",
              "       [-0.96620614, -0.14271892, -1.19341695, -1.28719604],\n",
              "       [-0.84944407,  1.47733367, -1.24957775, -1.02781144],\n",
              "       [ 2.18636979, -0.14271892,  1.33381894,  1.43634218],\n",
              "       [-0.14887164,  1.70876975, -1.13725615, -1.15750374],\n",
              "       [-0.26563371, -0.14271892,  0.43524618,  0.39880381],\n",
              "       [-1.19973028,  0.08871717, -1.19341695, -1.28719604],\n",
              "       [ 0.78522493, -0.14271892,  1.16533655,  1.30664988],\n",
              "       [ 0.901987  , -0.374155  ,  0.49140698,  0.13941922],\n",
              "       [-0.732682  ,  0.78302542, -1.30573855, -1.28719604],\n",
              "       [-0.84944407,  1.70876975, -1.19341695, -1.28719604],\n",
              "       [-1.43325443,  0.78302542, -1.30573855, -1.15750374],\n",
              "       [-0.03210957, -1.06846325,  0.15444219,  0.00972692],\n",
              "       [-1.08296821,  0.08871717, -1.24957775, -1.28719604],\n",
              "       [-0.26563371, -0.374155  , -0.070201  ,  0.13941922],\n",
              "       [ 0.31817664, -0.14271892,  0.49140698,  0.26911151],\n",
              "       [-0.38239578, -1.53133542, -0.0140402 , -0.24965767],\n",
              "       [ 0.66846286,  0.32015325,  0.43524618,  0.39880381],\n",
              "       [-0.84944407,  1.0144615 , -1.30573855, -1.28719604]])"
            ]
          },
          "metadata": {},
          "execution_count": 4
        }
      ],
      "source": [
        "X_train"
      ]
    },
    {
      "cell_type": "code",
      "execution_count": 5,
      "id": "9861d8a6",
      "metadata": {
        "colab": {
          "base_uri": "https://localhost:8080/"
        },
        "id": "9861d8a6",
        "outputId": "1942dc68-4bb2-497a-a6b4-1b25cf6127bb"
      },
      "outputs": [
        {
          "output_type": "execute_result",
          "data": {
            "text/plain": [
              "array([[-0.14887164, -0.374155  ,  0.26676379,  0.13941922],\n",
              "       [ 0.31817664, -0.60559109,  0.54756778,  0.00972692],\n",
              "       [ 0.31817664, -1.06846325,  1.05301496,  0.26911151],\n",
              "       [-1.5500165 , -1.7627715 , -1.36189934, -1.15750374],\n",
              "       [ 0.0846525 ,  0.32015325,  0.60372857,  0.7878807 ],\n",
              "       [ 0.78522493, -0.14271892,  0.99685416,  0.7878807 ],\n",
              "       [-0.84944407,  1.70876975, -1.24957775, -1.15750374],\n",
              "       [ 0.20141457, -0.14271892,  0.60372857,  0.7878807 ],\n",
              "       [-0.38239578,  2.63451409, -1.30573855, -1.28719604],\n",
              "       [-0.38239578, -1.29989934,  0.15444219,  0.13941922],\n",
              "       [ 0.66846286,  0.08871717,  0.99685416,  0.7878807 ],\n",
              "       [-0.38239578,  1.0144615 , -1.36189934, -1.28719604],\n",
              "       [-0.49915786,  0.78302542, -1.13725615, -1.28719604],\n",
              "       [ 0.43493872, -0.60559109,  0.60372857,  0.7878807 ],\n",
              "       [ 0.55170079, -1.7627715 ,  0.37908538,  0.13941922],\n",
              "       [ 0.55170079,  0.55158933,  0.54756778,  0.52849611],\n",
              "       [-1.19973028,  0.78302542, -1.19341695, -1.28719604],\n",
              "       [ 0.20141457, -1.99420759,  0.15444219, -0.24965767],\n",
              "       [ 0.55170079, -1.29989934,  0.65988937,  0.39880381],\n",
              "       [ 1.25227322,  0.32015325,  1.10917575,  1.43634218],\n",
              "       [-1.66677857, -0.374155  , -1.30573855, -1.28719604],\n",
              "       [ 0.78522493, -0.14271892,  0.82837177,  1.04726529],\n",
              "       [ 1.01874907, -0.14271892,  0.71605017,  0.6581884 ],\n",
              "       [ 1.01874907,  0.08871717,  0.54756778,  0.39880381],\n",
              "       [ 1.60255943, -0.14271892,  1.16533655,  0.52849611],\n",
              "       [-0.96620614,  1.24589758, -1.30573855, -1.28719604],\n",
              "       [-0.49915786,  0.78302542, -1.24957775, -1.02781144],\n",
              "       [ 0.55170079,  0.78302542,  1.05301496,  1.56603447],\n",
              "       [ 0.66846286, -0.60559109,  1.05301496,  1.30664988],\n",
              "       [-0.26563371, -0.14271892,  0.21060299,  0.13941922]])"
            ]
          },
          "metadata": {},
          "execution_count": 5
        }
      ],
      "source": [
        "X_test"
      ]
    },
    {
      "cell_type": "markdown",
      "source": [
        "### y값 원 핫 인코딩 해주기"
      ],
      "metadata": {
        "id": "rrBaVnpgZc95"
      },
      "id": "rrBaVnpgZc95"
    },
    {
      "cell_type": "markdown",
      "source": [
        "라그랑주 승수...내가 너무 심각하게 받아들였나보다...네...."
      ],
      "metadata": {
        "id": "NsGYixxFN_Vn"
      },
      "id": "NsGYixxFN_Vn"
    },
    {
      "cell_type": "code",
      "execution_count": 6,
      "id": "11719030",
      "metadata": {
        "id": "11719030",
        "colab": {
          "base_uri": "https://localhost:8080/"
        },
        "outputId": "5b6a5b7e-a61e-4128-fdce-da229c1e4d72"
      },
      "outputs": [
        {
          "output_type": "stream",
          "name": "stdout",
          "text": [
            "     setosa  versicolor  virginica\n",
            "110       0           0          1\n",
            "69        0           1          0\n",
            "148       0           0          1\n",
            "39        1           0          0\n",
            "53        0           1          0\n",
            "     setosa  versicolor  virginica\n",
            "96        0           1          0\n",
            "73        0           1          0\n",
            "134       0           0          1\n",
            "41        1           0          0\n",
            "70        0           1          0\n"
          ]
        }
      ],
      "source": [
        "#일단 y값들을 다 원핫 인코딩 해주기\n",
        "dummies_y_train=pd.get_dummies(y_train)\n",
        "dummies_y_test=pd.get_dummies(y_test)\n",
        "\n",
        "print(dummies_y_train.head())\n",
        "print(dummies_y_test.head())"
      ]
    },
    {
      "cell_type": "markdown",
      "source": [
        "### 그리드서치로 파라미터 정해보기"
      ],
      "metadata": {
        "id": "f1BbV3NmZOCN"
      },
      "id": "f1BbV3NmZOCN"
    },
    {
      "cell_type": "code",
      "source": [
        "from sklearn.model_selection import GridSearchCV"
      ],
      "metadata": {
        "id": "yLJJnaVTRgvG"
      },
      "id": "yLJJnaVTRgvG",
      "execution_count": 7,
      "outputs": []
    },
    {
      "cell_type": "code",
      "source": [
        "param_grid = {'C': [0.001, 0.01, 0.1, 1, 10, 100],\n",
        "             'gamma': [0.001, 0.01, 0.1, 1, 10, 100] }"
      ],
      "metadata": {
        "id": "ZGMXfpC_RQtT"
      },
      "id": "ZGMXfpC_RQtT",
      "execution_count": 8,
      "outputs": []
    },
    {
      "cell_type": "code",
      "source": [
        "model = SVC()\n",
        "grid_search = GridSearchCV(model, param_grid, cv=5, return_train_score=True)\n",
        "grid_search.fit(X_train, dummies_y_train['setosa'])"
      ],
      "metadata": {
        "colab": {
          "base_uri": "https://localhost:8080/"
        },
        "id": "pnjQ-yjfRap-",
        "outputId": "312da686-c8b2-4daa-dabe-e2fe21065b42"
      },
      "id": "pnjQ-yjfRap-",
      "execution_count": 9,
      "outputs": [
        {
          "output_type": "execute_result",
          "data": {
            "text/plain": [
              "GridSearchCV(cv=5, estimator=SVC(),\n",
              "             param_grid={'C': [0.001, 0.01, 0.1, 1, 10, 100],\n",
              "                         'gamma': [0.001, 0.01, 0.1, 1, 10, 100]},\n",
              "             return_train_score=True)"
            ]
          },
          "metadata": {},
          "execution_count": 9
        }
      ]
    },
    {
      "cell_type": "code",
      "source": [
        "test_score = grid_search.score(X_test, dummies_y_test['setosa'])\n",
        "print(\"테스트 세트 점수: {:.2f}\".format( test_score ))\n",
        "print(\"최적 매개변수: {}\".format(grid_search.best_params_))\n",
        "print(\"최고 교차 검증 점수: {:.2f}\".format(grid_search.best_score_))"
      ],
      "metadata": {
        "colab": {
          "base_uri": "https://localhost:8080/"
        },
        "id": "SnmB0CztRlUK",
        "outputId": "7fc85d32-763e-477f-8c49-81f86a58a2d2"
      },
      "id": "SnmB0CztRlUK",
      "execution_count": 10,
      "outputs": [
        {
          "output_type": "stream",
          "name": "stdout",
          "text": [
            "테스트 세트 점수: 1.00\n",
            "최적 매개변수: {'C': 0.1, 'gamma': 0.1}\n",
            "최고 교차 검증 점수: 1.00\n"
          ]
        }
      ]
    },
    {
      "cell_type": "markdown",
      "source": [
        "c랑 ganmma 둘 다 작으면 과소적합의 가능성이 있다고 하는데 왜 점수가 높을까 뭘 잘못한걸까"
      ],
      "metadata": {
        "id": "EoJLSXczS_up"
      },
      "id": "EoJLSXczS_up"
    },
    {
      "cell_type": "markdown",
      "source": [
        "참고 사이트: https://scikit-learn.org/stable/modules/generated/sklearn.svm.SVC.html<br>\n",
        "https://inuplace.tistory.com/616"
      ],
      "metadata": {
        "id": "tkRZ7xA-P9ld"
      },
      "id": "tkRZ7xA-P9ld"
    },
    {
      "cell_type": "code",
      "source": [
        "#일단 다른 품종도 이렇게 나오는지 함 보자....\n",
        "grid_search = GridSearchCV(model, param_grid, cv=5, return_train_score=True)\n",
        "grid_search.fit(X_train, dummies_y_train['versicolor'])"
      ],
      "metadata": {
        "colab": {
          "base_uri": "https://localhost:8080/"
        },
        "id": "b3aTmu2eTM-x",
        "outputId": "00fac814-f186-4d13-d607-f3b21595092a"
      },
      "id": "b3aTmu2eTM-x",
      "execution_count": 11,
      "outputs": [
        {
          "output_type": "execute_result",
          "data": {
            "text/plain": [
              "GridSearchCV(cv=5, estimator=SVC(),\n",
              "             param_grid={'C': [0.001, 0.01, 0.1, 1, 10, 100],\n",
              "                         'gamma': [0.001, 0.01, 0.1, 1, 10, 100]},\n",
              "             return_train_score=True)"
            ]
          },
          "metadata": {},
          "execution_count": 11
        }
      ]
    },
    {
      "cell_type": "code",
      "source": [
        "test_score = grid_search.score(X_test, dummies_y_test['versicolor'])\n",
        "print(\"테스트 세트 점수: {:.2f}\".format( test_score ))\n",
        "print(\"최적 매개변수: {}\".format(grid_search.best_params_))\n",
        "print(\"최고 교차 검증 점수: {:.2f}\".format(grid_search.best_score_))"
      ],
      "metadata": {
        "colab": {
          "base_uri": "https://localhost:8080/"
        },
        "id": "QtciJcQ_TvDh",
        "outputId": "ff386926-3658-49db-c6ce-3c4b62ea913e"
      },
      "id": "QtciJcQ_TvDh",
      "execution_count": 12,
      "outputs": [
        {
          "output_type": "stream",
          "name": "stdout",
          "text": [
            "테스트 세트 점수: 0.93\n",
            "최적 매개변수: {'C': 100, 'gamma': 0.01}\n",
            "최고 교차 검증 점수: 0.97\n"
          ]
        }
      ]
    },
    {
      "cell_type": "markdown",
      "source": [
        "점수가 좀 더 떨어졌다 (오히려 좋아)<br>\n",
        "근데 이번에는 c값이 좀 다르게 나온다...근데 0.1에서 100은 너무 극단적이자나요..."
      ],
      "metadata": {
        "id": "FE7UMNkhUE0t"
      },
      "id": "FE7UMNkhUE0t"
    },
    {
      "cell_type": "code",
      "source": [
        "#이왕 이렇게 된거 걍 마지막 품종도 그리드 서치 돌려보자,,~~\n",
        "grid_search = GridSearchCV(model, param_grid, cv=5, return_train_score=True)\n",
        "grid_search.fit(X_train, dummies_y_train['virginica'])"
      ],
      "metadata": {
        "colab": {
          "base_uri": "https://localhost:8080/"
        },
        "id": "fPvf8YFZUXYH",
        "outputId": "11f1249a-db96-44dd-e084-5348e04dea65"
      },
      "id": "fPvf8YFZUXYH",
      "execution_count": 13,
      "outputs": [
        {
          "output_type": "execute_result",
          "data": {
            "text/plain": [
              "GridSearchCV(cv=5, estimator=SVC(),\n",
              "             param_grid={'C': [0.001, 0.01, 0.1, 1, 10, 100],\n",
              "                         'gamma': [0.001, 0.01, 0.1, 1, 10, 100]},\n",
              "             return_train_score=True)"
            ]
          },
          "metadata": {},
          "execution_count": 13
        }
      ]
    },
    {
      "cell_type": "code",
      "source": [
        "type(dummies_y_train[target])"
      ],
      "metadata": {
        "colab": {
          "base_uri": "https://localhost:8080/"
        },
        "id": "hiSyME24S7IH",
        "outputId": "d9eac7d9-79c5-4cd4-d85d-2b7d5270d0e2"
      },
      "id": "hiSyME24S7IH",
      "execution_count": 28,
      "outputs": [
        {
          "output_type": "execute_result",
          "data": {
            "text/plain": [
              "pandas.core.series.Series"
            ]
          },
          "metadata": {},
          "execution_count": 28
        }
      ]
    },
    {
      "cell_type": "code",
      "source": [
        "test_score = grid_search.score(X_test, dummies_y_test['virginica'])\n",
        "print(\"테스트 세트 점수: {:.2f}\".format( test_score ))\n",
        "print(\"최적 매개변수: {}\".format(grid_search.best_params_))\n",
        "print(\"최고 교차 검증 점수: {:.2f}\".format(grid_search.best_score_))"
      ],
      "metadata": {
        "colab": {
          "base_uri": "https://localhost:8080/"
        },
        "id": "l27XgB3KUfVB",
        "outputId": "7b0913bc-c649-49bf-a3cd-4e9280ea44d0"
      },
      "id": "l27XgB3KUfVB",
      "execution_count": 14,
      "outputs": [
        {
          "output_type": "stream",
          "name": "stdout",
          "text": [
            "테스트 세트 점수: 0.97\n",
            "최적 매개변수: {'C': 10, 'gamma': 0.01}\n",
            "최고 교차 검증 점수: 0.97\n"
          ]
        }
      ]
    },
    {
      "cell_type": "markdown",
      "source": [
        "참고사이트: https://bskyvision.com/entry/%EC%84%9C%ED%8F%AC%ED%8A%B8-%EB%B2%A1%ED%84%B0-%EB%A8%B8%EC%8B%A0SVM%EC%9D%98-%EC%82%AC%EC%9A%A9%EC%9E%90%EB%A1%9C%EC%84%9C-%EA%BC%AD-%EC%95%8C%EC%95%84%EC%95%BC%ED%95%A0-%EA%B2%83%EB%93%A4-%EB%A7%A4%EA%B0%9C%EB%B3%80%EC%88%98-C%EC%99%80-gamma"
      ],
      "metadata": {
        "id": "9GEYJFi5TLN6"
      },
      "id": "9GEYJFi5TLN6"
    },
    {
      "cell_type": "markdown",
      "source": [
        "파라미터를 통일하고 싶었는데, 값이 다 다르게 나오고, 일일이 지정해주기에는 클래스에 무관한 모델을 만드는게 목표여서...애매한것 같다."
      ],
      "metadata": {
        "id": "BayhR2MXV1os"
      },
      "id": "BayhR2MXV1os"
    },
    {
      "cell_type": "markdown",
      "source": [
        "### SVM 만드는데 필요한 부분들 만들어보기"
      ],
      "metadata": {
        "id": "-HhdLHTtaGp6"
      },
      "id": "-HhdLHTtaGp6"
    },
    {
      "cell_type": "code",
      "source": [
        "#grid_search1 = GridSearchCV(model, grid_search.best_params_, cv=5, return_train_score=True) \n",
        "#이거 안돌아가는 코드여서 주석처리 했습니다.\n",
        "#params에 best params 직접 넣으려고 했는데 타입이 달라서 안되는것 같다. 그래서 list로 타입 바꿔서 했는데 그것도 안되는것 같다.."
      ],
      "metadata": {
        "id": "JlweUnTfV_MU"
      },
      "id": "JlweUnTfV_MU",
      "execution_count": null,
      "outputs": []
    },
    {
      "cell_type": "code",
      "source": [
        "a=list(grid_search.best_params_.values())\n",
        "a\n",
        "#grid_search.best_params_가 dictionary형식으로 나오는데, dictionary의 value만 뽑아서 그때그때 parameter에 넣어줘도 될것 같다..."
      ],
      "metadata": {
        "colab": {
          "base_uri": "https://localhost:8080/"
        },
        "id": "CUixjW3cWidD",
        "outputId": "77d7bad8-2434-4048-85cc-ec36c9d18bce"
      },
      "id": "CUixjW3cWidD",
      "execution_count": 17,
      "outputs": [
        {
          "output_type": "execute_result",
          "data": {
            "text/plain": [
              "[10, 0.01]"
            ]
          },
          "metadata": {},
          "execution_count": 17
        }
      ]
    },
    {
      "cell_type": "code",
      "source": [
        "#일단 y값별로 원핫 인코딩 하기 전에 해당 값들을 list 만들어 놓기\n",
        "y_train_list=list(y_train.unique())\n",
        "y_train_list"
      ],
      "metadata": {
        "colab": {
          "base_uri": "https://localhost:8080/"
        },
        "id": "kg5Nv3crdJiV",
        "outputId": "bf12778a-fe17-4bb0-dc73-26d58ba22675"
      },
      "id": "kg5Nv3crdJiV",
      "execution_count": 18,
      "outputs": [
        {
          "output_type": "execute_result",
          "data": {
            "text/plain": [
              "['virginica', 'versicolor', 'setosa']"
            ]
          },
          "metadata": {},
          "execution_count": 18
        }
      ]
    },
    {
      "cell_type": "code",
      "source": [
        "#그리드 서치 범위 정해놓기\n",
        "param_grid = {'C': [0.001, 0.01, 0.1, 1, 10, 100],\n",
        "             'gamma': [0.001, 0.01, 0.1, 1, 10, 100] }"
      ],
      "metadata": {
        "id": "8SvOLDDoeKaP"
      },
      "id": "8SvOLDDoeKaP",
      "execution_count": 15,
      "outputs": []
    },
    {
      "cell_type": "code",
      "source": [
        "# list 첫번째 요소(virginica)인지 아닌지 test후 예측값 만들기\n",
        "model = SVC()\n",
        "##하이퍼 파라미터 구하기\n",
        "grid_search = GridSearchCV(model, param_grid, cv=5, return_train_score=True)\n",
        "grid_search.fit(X_train, dummies_y_train[y_train_list[0]])\n",
        "best_params = list(grid_search.best_params_.values())\n",
        "\n",
        "##위에서 구한 파라미터 이용하여 모델 만들기\n",
        "model1=SVC(C=best_params[0],gamma=best_params[1],kernel='rbf')\n",
        "model1.fit(X_train, dummies_y_train[y_train_list[0]])\n",
        "pred=model1.predict(X_test)\n",
        "\n",
        "pred"
      ],
      "metadata": {
        "colab": {
          "base_uri": "https://localhost:8080/"
        },
        "id": "Et9u5qOWdkys",
        "outputId": "be58c68a-4c42-406c-b590-c31a0eb7ed0b"
      },
      "id": "Et9u5qOWdkys",
      "execution_count": 33,
      "outputs": [
        {
          "output_type": "execute_result",
          "data": {
            "text/plain": [
              "array([0, 0, 1, 0, 0, 1, 0, 1, 0, 0, 1, 0, 0, 1, 0, 0, 0, 0, 0, 1, 0, 1,\n",
              "       1, 0, 1, 0, 0, 1, 1, 0], dtype=uint8)"
            ]
          },
          "metadata": {},
          "execution_count": 33
        }
      ]
    },
    {
      "cell_type": "markdown",
      "source": [
        "위의 내용을 클래스의 숫자만큼 반복하면 될것 같다"
      ],
      "metadata": {
        "id": "OMTi2-t6Ujv3"
      },
      "id": "OMTi2-t6Ujv3"
    },
    {
      "cell_type": "code",
      "source": [
        "#해당 예측값이 array로 나오니깐 돌린 결과값을 array에 추가하는 형식으로 하면 될것 같다\n",
        "semi_final=[]\n",
        "for i in range(len(y_train_list)):\n",
        "  # list 첫번째 요소(virginica)인지 아닌지 test후 예측값 만들기\n",
        "  model = SVC()\n",
        "  ##하이퍼 파라미터 구하기\n",
        "  grid_search = GridSearchCV(model, param_grid, cv=5, return_train_score=True)\n",
        "  grid_search.fit(X_train, dummies_y_train[y_train_list[i]])\n",
        "  best_params = list(grid_search.best_params_.values())\n",
        "\n",
        "  ##위에서 구한 파라미터 이용하여 모델 만들기\n",
        "  model1=SVC(C=best_params[0],gamma=best_params[1],kernel='rbf')\n",
        "  model1.fit(X_train, dummies_y_train[y_train_list[i]])\n",
        "  pred=model1.predict(X_test)\n",
        "\n",
        "  semi_final.append(pred)\n",
        "semi_final"
      ],
      "metadata": {
        "colab": {
          "base_uri": "https://localhost:8080/"
        },
        "id": "Z1YzgE0aUo8R",
        "outputId": "52633767-f0aa-4b1c-e2f3-f6de7f0690f4"
      },
      "id": "Z1YzgE0aUo8R",
      "execution_count": 37,
      "outputs": [
        {
          "output_type": "execute_result",
          "data": {
            "text/plain": [
              "[array([0, 0, 1, 0, 0, 1, 0, 1, 0, 0, 1, 0, 0, 1, 0, 0, 0, 0, 0, 1, 0, 1,\n",
              "        1, 0, 1, 0, 0, 1, 1, 0], dtype=uint8),\n",
              " array([1, 1, 1, 0, 0, 0, 0, 0, 0, 1, 0, 0, 0, 0, 1, 1, 0, 1, 1, 0, 0, 0,\n",
              "        1, 1, 0, 0, 0, 0, 0, 1], dtype=uint8),\n",
              " array([0, 0, 0, 1, 0, 0, 1, 0, 1, 0, 0, 1, 1, 0, 0, 0, 1, 0, 0, 0, 1, 0,\n",
              "        0, 0, 0, 1, 1, 0, 0, 0], dtype=uint8)]"
            ]
          },
          "metadata": {},
          "execution_count": 37
        }
      ]
    },
    {
      "cell_type": "code",
      "source": [
        "df=pd.DataFrame(np.transpose(semi_final))\n",
        "df.columns = y_train_list\n",
        "df"
      ],
      "metadata": {
        "colab": {
          "base_uri": "https://localhost:8080/",
          "height": 990
        },
        "id": "0YNYqGZjV9Z2",
        "outputId": "cc374fd9-5fa4-4f44-e4e1-bbdf6dfd3e46"
      },
      "id": "0YNYqGZjV9Z2",
      "execution_count": 44,
      "outputs": [
        {
          "output_type": "execute_result",
          "data": {
            "text/plain": [
              "    virginica  versicolor  setosa\n",
              "0           0           1       0\n",
              "1           0           1       0\n",
              "2           1           1       0\n",
              "3           0           0       1\n",
              "4           0           0       0\n",
              "5           1           0       0\n",
              "6           0           0       1\n",
              "7           1           0       0\n",
              "8           0           0       1\n",
              "9           0           1       0\n",
              "10          1           0       0\n",
              "11          0           0       1\n",
              "12          0           0       1\n",
              "13          1           0       0\n",
              "14          0           1       0\n",
              "15          0           1       0\n",
              "16          0           0       1\n",
              "17          0           1       0\n",
              "18          0           1       0\n",
              "19          1           0       0\n",
              "20          0           0       1\n",
              "21          1           0       0\n",
              "22          1           1       0\n",
              "23          0           1       0\n",
              "24          1           0       0\n",
              "25          0           0       1\n",
              "26          0           0       1\n",
              "27          1           0       0\n",
              "28          1           0       0\n",
              "29          0           1       0"
            ],
            "text/html": [
              "\n",
              "  <div id=\"df-fbc15117-1c92-4cd8-b281-f33d3280e6d6\">\n",
              "    <div class=\"colab-df-container\">\n",
              "      <div>\n",
              "<style scoped>\n",
              "    .dataframe tbody tr th:only-of-type {\n",
              "        vertical-align: middle;\n",
              "    }\n",
              "\n",
              "    .dataframe tbody tr th {\n",
              "        vertical-align: top;\n",
              "    }\n",
              "\n",
              "    .dataframe thead th {\n",
              "        text-align: right;\n",
              "    }\n",
              "</style>\n",
              "<table border=\"1\" class=\"dataframe\">\n",
              "  <thead>\n",
              "    <tr style=\"text-align: right;\">\n",
              "      <th></th>\n",
              "      <th>virginica</th>\n",
              "      <th>versicolor</th>\n",
              "      <th>setosa</th>\n",
              "    </tr>\n",
              "  </thead>\n",
              "  <tbody>\n",
              "    <tr>\n",
              "      <th>0</th>\n",
              "      <td>0</td>\n",
              "      <td>1</td>\n",
              "      <td>0</td>\n",
              "    </tr>\n",
              "    <tr>\n",
              "      <th>1</th>\n",
              "      <td>0</td>\n",
              "      <td>1</td>\n",
              "      <td>0</td>\n",
              "    </tr>\n",
              "    <tr>\n",
              "      <th>2</th>\n",
              "      <td>1</td>\n",
              "      <td>1</td>\n",
              "      <td>0</td>\n",
              "    </tr>\n",
              "    <tr>\n",
              "      <th>3</th>\n",
              "      <td>0</td>\n",
              "      <td>0</td>\n",
              "      <td>1</td>\n",
              "    </tr>\n",
              "    <tr>\n",
              "      <th>4</th>\n",
              "      <td>0</td>\n",
              "      <td>0</td>\n",
              "      <td>0</td>\n",
              "    </tr>\n",
              "    <tr>\n",
              "      <th>5</th>\n",
              "      <td>1</td>\n",
              "      <td>0</td>\n",
              "      <td>0</td>\n",
              "    </tr>\n",
              "    <tr>\n",
              "      <th>6</th>\n",
              "      <td>0</td>\n",
              "      <td>0</td>\n",
              "      <td>1</td>\n",
              "    </tr>\n",
              "    <tr>\n",
              "      <th>7</th>\n",
              "      <td>1</td>\n",
              "      <td>0</td>\n",
              "      <td>0</td>\n",
              "    </tr>\n",
              "    <tr>\n",
              "      <th>8</th>\n",
              "      <td>0</td>\n",
              "      <td>0</td>\n",
              "      <td>1</td>\n",
              "    </tr>\n",
              "    <tr>\n",
              "      <th>9</th>\n",
              "      <td>0</td>\n",
              "      <td>1</td>\n",
              "      <td>0</td>\n",
              "    </tr>\n",
              "    <tr>\n",
              "      <th>10</th>\n",
              "      <td>1</td>\n",
              "      <td>0</td>\n",
              "      <td>0</td>\n",
              "    </tr>\n",
              "    <tr>\n",
              "      <th>11</th>\n",
              "      <td>0</td>\n",
              "      <td>0</td>\n",
              "      <td>1</td>\n",
              "    </tr>\n",
              "    <tr>\n",
              "      <th>12</th>\n",
              "      <td>0</td>\n",
              "      <td>0</td>\n",
              "      <td>1</td>\n",
              "    </tr>\n",
              "    <tr>\n",
              "      <th>13</th>\n",
              "      <td>1</td>\n",
              "      <td>0</td>\n",
              "      <td>0</td>\n",
              "    </tr>\n",
              "    <tr>\n",
              "      <th>14</th>\n",
              "      <td>0</td>\n",
              "      <td>1</td>\n",
              "      <td>0</td>\n",
              "    </tr>\n",
              "    <tr>\n",
              "      <th>15</th>\n",
              "      <td>0</td>\n",
              "      <td>1</td>\n",
              "      <td>0</td>\n",
              "    </tr>\n",
              "    <tr>\n",
              "      <th>16</th>\n",
              "      <td>0</td>\n",
              "      <td>0</td>\n",
              "      <td>1</td>\n",
              "    </tr>\n",
              "    <tr>\n",
              "      <th>17</th>\n",
              "      <td>0</td>\n",
              "      <td>1</td>\n",
              "      <td>0</td>\n",
              "    </tr>\n",
              "    <tr>\n",
              "      <th>18</th>\n",
              "      <td>0</td>\n",
              "      <td>1</td>\n",
              "      <td>0</td>\n",
              "    </tr>\n",
              "    <tr>\n",
              "      <th>19</th>\n",
              "      <td>1</td>\n",
              "      <td>0</td>\n",
              "      <td>0</td>\n",
              "    </tr>\n",
              "    <tr>\n",
              "      <th>20</th>\n",
              "      <td>0</td>\n",
              "      <td>0</td>\n",
              "      <td>1</td>\n",
              "    </tr>\n",
              "    <tr>\n",
              "      <th>21</th>\n",
              "      <td>1</td>\n",
              "      <td>0</td>\n",
              "      <td>0</td>\n",
              "    </tr>\n",
              "    <tr>\n",
              "      <th>22</th>\n",
              "      <td>1</td>\n",
              "      <td>1</td>\n",
              "      <td>0</td>\n",
              "    </tr>\n",
              "    <tr>\n",
              "      <th>23</th>\n",
              "      <td>0</td>\n",
              "      <td>1</td>\n",
              "      <td>0</td>\n",
              "    </tr>\n",
              "    <tr>\n",
              "      <th>24</th>\n",
              "      <td>1</td>\n",
              "      <td>0</td>\n",
              "      <td>0</td>\n",
              "    </tr>\n",
              "    <tr>\n",
              "      <th>25</th>\n",
              "      <td>0</td>\n",
              "      <td>0</td>\n",
              "      <td>1</td>\n",
              "    </tr>\n",
              "    <tr>\n",
              "      <th>26</th>\n",
              "      <td>0</td>\n",
              "      <td>0</td>\n",
              "      <td>1</td>\n",
              "    </tr>\n",
              "    <tr>\n",
              "      <th>27</th>\n",
              "      <td>1</td>\n",
              "      <td>0</td>\n",
              "      <td>0</td>\n",
              "    </tr>\n",
              "    <tr>\n",
              "      <th>28</th>\n",
              "      <td>1</td>\n",
              "      <td>0</td>\n",
              "      <td>0</td>\n",
              "    </tr>\n",
              "    <tr>\n",
              "      <th>29</th>\n",
              "      <td>0</td>\n",
              "      <td>1</td>\n",
              "      <td>0</td>\n",
              "    </tr>\n",
              "  </tbody>\n",
              "</table>\n",
              "</div>\n",
              "      <button class=\"colab-df-convert\" onclick=\"convertToInteractive('df-fbc15117-1c92-4cd8-b281-f33d3280e6d6')\"\n",
              "              title=\"Convert this dataframe to an interactive table.\"\n",
              "              style=\"display:none;\">\n",
              "        \n",
              "  <svg xmlns=\"http://www.w3.org/2000/svg\" height=\"24px\"viewBox=\"0 0 24 24\"\n",
              "       width=\"24px\">\n",
              "    <path d=\"M0 0h24v24H0V0z\" fill=\"none\"/>\n",
              "    <path d=\"M18.56 5.44l.94 2.06.94-2.06 2.06-.94-2.06-.94-.94-2.06-.94 2.06-2.06.94zm-11 1L8.5 8.5l.94-2.06 2.06-.94-2.06-.94L8.5 2.5l-.94 2.06-2.06.94zm10 10l.94 2.06.94-2.06 2.06-.94-2.06-.94-.94-2.06-.94 2.06-2.06.94z\"/><path d=\"M17.41 7.96l-1.37-1.37c-.4-.4-.92-.59-1.43-.59-.52 0-1.04.2-1.43.59L10.3 9.45l-7.72 7.72c-.78.78-.78 2.05 0 2.83L4 21.41c.39.39.9.59 1.41.59.51 0 1.02-.2 1.41-.59l7.78-7.78 2.81-2.81c.8-.78.8-2.07 0-2.86zM5.41 20L4 18.59l7.72-7.72 1.47 1.35L5.41 20z\"/>\n",
              "  </svg>\n",
              "      </button>\n",
              "      \n",
              "  <style>\n",
              "    .colab-df-container {\n",
              "      display:flex;\n",
              "      flex-wrap:wrap;\n",
              "      gap: 12px;\n",
              "    }\n",
              "\n",
              "    .colab-df-convert {\n",
              "      background-color: #E8F0FE;\n",
              "      border: none;\n",
              "      border-radius: 50%;\n",
              "      cursor: pointer;\n",
              "      display: none;\n",
              "      fill: #1967D2;\n",
              "      height: 32px;\n",
              "      padding: 0 0 0 0;\n",
              "      width: 32px;\n",
              "    }\n",
              "\n",
              "    .colab-df-convert:hover {\n",
              "      background-color: #E2EBFA;\n",
              "      box-shadow: 0px 1px 2px rgba(60, 64, 67, 0.3), 0px 1px 3px 1px rgba(60, 64, 67, 0.15);\n",
              "      fill: #174EA6;\n",
              "    }\n",
              "\n",
              "    [theme=dark] .colab-df-convert {\n",
              "      background-color: #3B4455;\n",
              "      fill: #D2E3FC;\n",
              "    }\n",
              "\n",
              "    [theme=dark] .colab-df-convert:hover {\n",
              "      background-color: #434B5C;\n",
              "      box-shadow: 0px 1px 3px 1px rgba(0, 0, 0, 0.15);\n",
              "      filter: drop-shadow(0px 1px 2px rgba(0, 0, 0, 0.3));\n",
              "      fill: #FFFFFF;\n",
              "    }\n",
              "  </style>\n",
              "\n",
              "      <script>\n",
              "        const buttonEl =\n",
              "          document.querySelector('#df-fbc15117-1c92-4cd8-b281-f33d3280e6d6 button.colab-df-convert');\n",
              "        buttonEl.style.display =\n",
              "          google.colab.kernel.accessAllowed ? 'block' : 'none';\n",
              "\n",
              "        async function convertToInteractive(key) {\n",
              "          const element = document.querySelector('#df-fbc15117-1c92-4cd8-b281-f33d3280e6d6');\n",
              "          const dataTable =\n",
              "            await google.colab.kernel.invokeFunction('convertToInteractive',\n",
              "                                                     [key], {});\n",
              "          if (!dataTable) return;\n",
              "\n",
              "          const docLinkHtml = 'Like what you see? Visit the ' +\n",
              "            '<a target=\"_blank\" href=https://colab.research.google.com/notebooks/data_table.ipynb>data table notebook</a>'\n",
              "            + ' to learn more about interactive tables.';\n",
              "          element.innerHTML = '';\n",
              "          dataTable['output_type'] = 'display_data';\n",
              "          await google.colab.output.renderOutput(dataTable, element);\n",
              "          const docLink = document.createElement('div');\n",
              "          docLink.innerHTML = docLinkHtml;\n",
              "          element.appendChild(docLink);\n",
              "        }\n",
              "      </script>\n",
              "    </div>\n",
              "  </div>\n",
              "  "
            ]
          },
          "metadata": {},
          "execution_count": 44
        }
      ]
    },
    {
      "cell_type": "markdown",
      "source": [
        "결과를 보면 다는 아니지만 본인이 true 값이라고 동시에 주장하는 관측치가 있다<br>\n",
        "이런 경우에는 마지막에 1이 나온 열에 대해서 답을 가진다.<br>\n"
      ],
      "metadata": {
        "id": "4GiAlECVWkoQ"
      },
      "id": "4GiAlECVWkoQ"
    },
    {
      "cell_type": "code",
      "source": [
        "df.loc[0,'virginica']+df.loc[0,'versicolor']+df.loc[0,'setosa']"
      ],
      "metadata": {
        "colab": {
          "base_uri": "https://localhost:8080/"
        },
        "id": "pYb6MFBWZf1X",
        "outputId": "d09975c9-e12c-444b-ca2d-5ec8e9fb7ae6"
      },
      "id": "pYb6MFBWZf1X",
      "execution_count": 55,
      "outputs": [
        {
          "output_type": "execute_result",
          "data": {
            "text/plain": [
              "1"
            ]
          },
          "metadata": {},
          "execution_count": 55
        }
      ]
    },
    {
      "cell_type": "code",
      "source": [
        "df['conclu']=0\n",
        "df['final']=\"I don't know\"\n",
        "\n",
        "for i in range(len(df)):\n",
        "  df['conclu'][i]=df.loc[i,'virginica']+df.loc[i,'versicolor']+df.loc[i,'setosa']\n",
        "\n",
        "for i in range(len(df)):\n",
        "  if df['conclu'][i]==1:\n",
        "    for j in range(len(y_train_list)):\n",
        "      if df.loc[i,y_train_list[j]]==1:\n",
        "        df['final'][i]=y_train_list[j]\n",
        "  else:\n",
        "    for j in range(len(y_train_list)):\n",
        "      if df.loc[i,y_train_list[j]]==1:\n",
        "        df['final'][i]=y_train_list[j]"
      ],
      "metadata": {
        "colab": {
          "base_uri": "https://localhost:8080/"
        },
        "id": "lcWxSSwCWj5Z",
        "outputId": "d3ac7b70-479e-4a70-a177-ba4738834aa9"
      },
      "id": "lcWxSSwCWj5Z",
      "execution_count": 59,
      "outputs": [
        {
          "output_type": "stream",
          "name": "stderr",
          "text": [
            "/usr/local/lib/python3.7/dist-packages/ipykernel_launcher.py:4: SettingWithCopyWarning: \n",
            "A value is trying to be set on a copy of a slice from a DataFrame\n",
            "\n",
            "See the caveats in the documentation: https://pandas.pydata.org/pandas-docs/stable/user_guide/indexing.html#returning-a-view-versus-a-copy\n",
            "  after removing the cwd from sys.path.\n",
            "/usr/local/lib/python3.7/dist-packages/ipykernel_launcher.py:10: SettingWithCopyWarning: \n",
            "A value is trying to be set on a copy of a slice from a DataFrame\n",
            "\n",
            "See the caveats in the documentation: https://pandas.pydata.org/pandas-docs/stable/user_guide/indexing.html#returning-a-view-versus-a-copy\n",
            "  # Remove the CWD from sys.path while we load stuff.\n",
            "/usr/local/lib/python3.7/dist-packages/ipykernel_launcher.py:14: SettingWithCopyWarning: \n",
            "A value is trying to be set on a copy of a slice from a DataFrame\n",
            "\n",
            "See the caveats in the documentation: https://pandas.pydata.org/pandas-docs/stable/user_guide/indexing.html#returning-a-view-versus-a-copy\n",
            "  \n"
          ]
        }
      ]
    },
    {
      "cell_type": "code",
      "source": [
        "df #다 0이 나오는 경우도 있구나...그런 경우에는 걍 virginica로 합시다!! "
      ],
      "metadata": {
        "colab": {
          "base_uri": "https://localhost:8080/",
          "height": 990
        },
        "id": "iKep_TrhcwmA",
        "outputId": "8d93b7d7-c71a-47ba-8bba-c721fc9b18fa"
      },
      "id": "iKep_TrhcwmA",
      "execution_count": 60,
      "outputs": [
        {
          "output_type": "execute_result",
          "data": {
            "text/plain": [
              "    virginica  versicolor  setosa         final  conclu\n",
              "0           0           1       0    versicolor       1\n",
              "1           0           1       0    versicolor       1\n",
              "2           1           1       0    versicolor       2\n",
              "3           0           0       1        setosa       1\n",
              "4           0           0       0  I don't know       0\n",
              "5           1           0       0     virginica       1\n",
              "6           0           0       1        setosa       1\n",
              "7           1           0       0     virginica       1\n",
              "8           0           0       1        setosa       1\n",
              "9           0           1       0    versicolor       1\n",
              "10          1           0       0     virginica       1\n",
              "11          0           0       1        setosa       1\n",
              "12          0           0       1        setosa       1\n",
              "13          1           0       0     virginica       1\n",
              "14          0           1       0    versicolor       1\n",
              "15          0           1       0    versicolor       1\n",
              "16          0           0       1        setosa       1\n",
              "17          0           1       0    versicolor       1\n",
              "18          0           1       0    versicolor       1\n",
              "19          1           0       0     virginica       1\n",
              "20          0           0       1        setosa       1\n",
              "21          1           0       0     virginica       1\n",
              "22          1           1       0    versicolor       2\n",
              "23          0           1       0    versicolor       1\n",
              "24          1           0       0     virginica       1\n",
              "25          0           0       1        setosa       1\n",
              "26          0           0       1        setosa       1\n",
              "27          1           0       0     virginica       1\n",
              "28          1           0       0     virginica       1\n",
              "29          0           1       0    versicolor       1"
            ],
            "text/html": [
              "\n",
              "  <div id=\"df-c01b406b-9876-48ad-9e91-f3fdac8c3722\">\n",
              "    <div class=\"colab-df-container\">\n",
              "      <div>\n",
              "<style scoped>\n",
              "    .dataframe tbody tr th:only-of-type {\n",
              "        vertical-align: middle;\n",
              "    }\n",
              "\n",
              "    .dataframe tbody tr th {\n",
              "        vertical-align: top;\n",
              "    }\n",
              "\n",
              "    .dataframe thead th {\n",
              "        text-align: right;\n",
              "    }\n",
              "</style>\n",
              "<table border=\"1\" class=\"dataframe\">\n",
              "  <thead>\n",
              "    <tr style=\"text-align: right;\">\n",
              "      <th></th>\n",
              "      <th>virginica</th>\n",
              "      <th>versicolor</th>\n",
              "      <th>setosa</th>\n",
              "      <th>final</th>\n",
              "      <th>conclu</th>\n",
              "    </tr>\n",
              "  </thead>\n",
              "  <tbody>\n",
              "    <tr>\n",
              "      <th>0</th>\n",
              "      <td>0</td>\n",
              "      <td>1</td>\n",
              "      <td>0</td>\n",
              "      <td>versicolor</td>\n",
              "      <td>1</td>\n",
              "    </tr>\n",
              "    <tr>\n",
              "      <th>1</th>\n",
              "      <td>0</td>\n",
              "      <td>1</td>\n",
              "      <td>0</td>\n",
              "      <td>versicolor</td>\n",
              "      <td>1</td>\n",
              "    </tr>\n",
              "    <tr>\n",
              "      <th>2</th>\n",
              "      <td>1</td>\n",
              "      <td>1</td>\n",
              "      <td>0</td>\n",
              "      <td>versicolor</td>\n",
              "      <td>2</td>\n",
              "    </tr>\n",
              "    <tr>\n",
              "      <th>3</th>\n",
              "      <td>0</td>\n",
              "      <td>0</td>\n",
              "      <td>1</td>\n",
              "      <td>setosa</td>\n",
              "      <td>1</td>\n",
              "    </tr>\n",
              "    <tr>\n",
              "      <th>4</th>\n",
              "      <td>0</td>\n",
              "      <td>0</td>\n",
              "      <td>0</td>\n",
              "      <td>I don't know</td>\n",
              "      <td>0</td>\n",
              "    </tr>\n",
              "    <tr>\n",
              "      <th>5</th>\n",
              "      <td>1</td>\n",
              "      <td>0</td>\n",
              "      <td>0</td>\n",
              "      <td>virginica</td>\n",
              "      <td>1</td>\n",
              "    </tr>\n",
              "    <tr>\n",
              "      <th>6</th>\n",
              "      <td>0</td>\n",
              "      <td>0</td>\n",
              "      <td>1</td>\n",
              "      <td>setosa</td>\n",
              "      <td>1</td>\n",
              "    </tr>\n",
              "    <tr>\n",
              "      <th>7</th>\n",
              "      <td>1</td>\n",
              "      <td>0</td>\n",
              "      <td>0</td>\n",
              "      <td>virginica</td>\n",
              "      <td>1</td>\n",
              "    </tr>\n",
              "    <tr>\n",
              "      <th>8</th>\n",
              "      <td>0</td>\n",
              "      <td>0</td>\n",
              "      <td>1</td>\n",
              "      <td>setosa</td>\n",
              "      <td>1</td>\n",
              "    </tr>\n",
              "    <tr>\n",
              "      <th>9</th>\n",
              "      <td>0</td>\n",
              "      <td>1</td>\n",
              "      <td>0</td>\n",
              "      <td>versicolor</td>\n",
              "      <td>1</td>\n",
              "    </tr>\n",
              "    <tr>\n",
              "      <th>10</th>\n",
              "      <td>1</td>\n",
              "      <td>0</td>\n",
              "      <td>0</td>\n",
              "      <td>virginica</td>\n",
              "      <td>1</td>\n",
              "    </tr>\n",
              "    <tr>\n",
              "      <th>11</th>\n",
              "      <td>0</td>\n",
              "      <td>0</td>\n",
              "      <td>1</td>\n",
              "      <td>setosa</td>\n",
              "      <td>1</td>\n",
              "    </tr>\n",
              "    <tr>\n",
              "      <th>12</th>\n",
              "      <td>0</td>\n",
              "      <td>0</td>\n",
              "      <td>1</td>\n",
              "      <td>setosa</td>\n",
              "      <td>1</td>\n",
              "    </tr>\n",
              "    <tr>\n",
              "      <th>13</th>\n",
              "      <td>1</td>\n",
              "      <td>0</td>\n",
              "      <td>0</td>\n",
              "      <td>virginica</td>\n",
              "      <td>1</td>\n",
              "    </tr>\n",
              "    <tr>\n",
              "      <th>14</th>\n",
              "      <td>0</td>\n",
              "      <td>1</td>\n",
              "      <td>0</td>\n",
              "      <td>versicolor</td>\n",
              "      <td>1</td>\n",
              "    </tr>\n",
              "    <tr>\n",
              "      <th>15</th>\n",
              "      <td>0</td>\n",
              "      <td>1</td>\n",
              "      <td>0</td>\n",
              "      <td>versicolor</td>\n",
              "      <td>1</td>\n",
              "    </tr>\n",
              "    <tr>\n",
              "      <th>16</th>\n",
              "      <td>0</td>\n",
              "      <td>0</td>\n",
              "      <td>1</td>\n",
              "      <td>setosa</td>\n",
              "      <td>1</td>\n",
              "    </tr>\n",
              "    <tr>\n",
              "      <th>17</th>\n",
              "      <td>0</td>\n",
              "      <td>1</td>\n",
              "      <td>0</td>\n",
              "      <td>versicolor</td>\n",
              "      <td>1</td>\n",
              "    </tr>\n",
              "    <tr>\n",
              "      <th>18</th>\n",
              "      <td>0</td>\n",
              "      <td>1</td>\n",
              "      <td>0</td>\n",
              "      <td>versicolor</td>\n",
              "      <td>1</td>\n",
              "    </tr>\n",
              "    <tr>\n",
              "      <th>19</th>\n",
              "      <td>1</td>\n",
              "      <td>0</td>\n",
              "      <td>0</td>\n",
              "      <td>virginica</td>\n",
              "      <td>1</td>\n",
              "    </tr>\n",
              "    <tr>\n",
              "      <th>20</th>\n",
              "      <td>0</td>\n",
              "      <td>0</td>\n",
              "      <td>1</td>\n",
              "      <td>setosa</td>\n",
              "      <td>1</td>\n",
              "    </tr>\n",
              "    <tr>\n",
              "      <th>21</th>\n",
              "      <td>1</td>\n",
              "      <td>0</td>\n",
              "      <td>0</td>\n",
              "      <td>virginica</td>\n",
              "      <td>1</td>\n",
              "    </tr>\n",
              "    <tr>\n",
              "      <th>22</th>\n",
              "      <td>1</td>\n",
              "      <td>1</td>\n",
              "      <td>0</td>\n",
              "      <td>versicolor</td>\n",
              "      <td>2</td>\n",
              "    </tr>\n",
              "    <tr>\n",
              "      <th>23</th>\n",
              "      <td>0</td>\n",
              "      <td>1</td>\n",
              "      <td>0</td>\n",
              "      <td>versicolor</td>\n",
              "      <td>1</td>\n",
              "    </tr>\n",
              "    <tr>\n",
              "      <th>24</th>\n",
              "      <td>1</td>\n",
              "      <td>0</td>\n",
              "      <td>0</td>\n",
              "      <td>virginica</td>\n",
              "      <td>1</td>\n",
              "    </tr>\n",
              "    <tr>\n",
              "      <th>25</th>\n",
              "      <td>0</td>\n",
              "      <td>0</td>\n",
              "      <td>1</td>\n",
              "      <td>setosa</td>\n",
              "      <td>1</td>\n",
              "    </tr>\n",
              "    <tr>\n",
              "      <th>26</th>\n",
              "      <td>0</td>\n",
              "      <td>0</td>\n",
              "      <td>1</td>\n",
              "      <td>setosa</td>\n",
              "      <td>1</td>\n",
              "    </tr>\n",
              "    <tr>\n",
              "      <th>27</th>\n",
              "      <td>1</td>\n",
              "      <td>0</td>\n",
              "      <td>0</td>\n",
              "      <td>virginica</td>\n",
              "      <td>1</td>\n",
              "    </tr>\n",
              "    <tr>\n",
              "      <th>28</th>\n",
              "      <td>1</td>\n",
              "      <td>0</td>\n",
              "      <td>0</td>\n",
              "      <td>virginica</td>\n",
              "      <td>1</td>\n",
              "    </tr>\n",
              "    <tr>\n",
              "      <th>29</th>\n",
              "      <td>0</td>\n",
              "      <td>1</td>\n",
              "      <td>0</td>\n",
              "      <td>versicolor</td>\n",
              "      <td>1</td>\n",
              "    </tr>\n",
              "  </tbody>\n",
              "</table>\n",
              "</div>\n",
              "      <button class=\"colab-df-convert\" onclick=\"convertToInteractive('df-c01b406b-9876-48ad-9e91-f3fdac8c3722')\"\n",
              "              title=\"Convert this dataframe to an interactive table.\"\n",
              "              style=\"display:none;\">\n",
              "        \n",
              "  <svg xmlns=\"http://www.w3.org/2000/svg\" height=\"24px\"viewBox=\"0 0 24 24\"\n",
              "       width=\"24px\">\n",
              "    <path d=\"M0 0h24v24H0V0z\" fill=\"none\"/>\n",
              "    <path d=\"M18.56 5.44l.94 2.06.94-2.06 2.06-.94-2.06-.94-.94-2.06-.94 2.06-2.06.94zm-11 1L8.5 8.5l.94-2.06 2.06-.94-2.06-.94L8.5 2.5l-.94 2.06-2.06.94zm10 10l.94 2.06.94-2.06 2.06-.94-2.06-.94-.94-2.06-.94 2.06-2.06.94z\"/><path d=\"M17.41 7.96l-1.37-1.37c-.4-.4-.92-.59-1.43-.59-.52 0-1.04.2-1.43.59L10.3 9.45l-7.72 7.72c-.78.78-.78 2.05 0 2.83L4 21.41c.39.39.9.59 1.41.59.51 0 1.02-.2 1.41-.59l7.78-7.78 2.81-2.81c.8-.78.8-2.07 0-2.86zM5.41 20L4 18.59l7.72-7.72 1.47 1.35L5.41 20z\"/>\n",
              "  </svg>\n",
              "      </button>\n",
              "      \n",
              "  <style>\n",
              "    .colab-df-container {\n",
              "      display:flex;\n",
              "      flex-wrap:wrap;\n",
              "      gap: 12px;\n",
              "    }\n",
              "\n",
              "    .colab-df-convert {\n",
              "      background-color: #E8F0FE;\n",
              "      border: none;\n",
              "      border-radius: 50%;\n",
              "      cursor: pointer;\n",
              "      display: none;\n",
              "      fill: #1967D2;\n",
              "      height: 32px;\n",
              "      padding: 0 0 0 0;\n",
              "      width: 32px;\n",
              "    }\n",
              "\n",
              "    .colab-df-convert:hover {\n",
              "      background-color: #E2EBFA;\n",
              "      box-shadow: 0px 1px 2px rgba(60, 64, 67, 0.3), 0px 1px 3px 1px rgba(60, 64, 67, 0.15);\n",
              "      fill: #174EA6;\n",
              "    }\n",
              "\n",
              "    [theme=dark] .colab-df-convert {\n",
              "      background-color: #3B4455;\n",
              "      fill: #D2E3FC;\n",
              "    }\n",
              "\n",
              "    [theme=dark] .colab-df-convert:hover {\n",
              "      background-color: #434B5C;\n",
              "      box-shadow: 0px 1px 3px 1px rgba(0, 0, 0, 0.15);\n",
              "      filter: drop-shadow(0px 1px 2px rgba(0, 0, 0, 0.3));\n",
              "      fill: #FFFFFF;\n",
              "    }\n",
              "  </style>\n",
              "\n",
              "      <script>\n",
              "        const buttonEl =\n",
              "          document.querySelector('#df-c01b406b-9876-48ad-9e91-f3fdac8c3722 button.colab-df-convert');\n",
              "        buttonEl.style.display =\n",
              "          google.colab.kernel.accessAllowed ? 'block' : 'none';\n",
              "\n",
              "        async function convertToInteractive(key) {\n",
              "          const element = document.querySelector('#df-c01b406b-9876-48ad-9e91-f3fdac8c3722');\n",
              "          const dataTable =\n",
              "            await google.colab.kernel.invokeFunction('convertToInteractive',\n",
              "                                                     [key], {});\n",
              "          if (!dataTable) return;\n",
              "\n",
              "          const docLinkHtml = 'Like what you see? Visit the ' +\n",
              "            '<a target=\"_blank\" href=https://colab.research.google.com/notebooks/data_table.ipynb>data table notebook</a>'\n",
              "            + ' to learn more about interactive tables.';\n",
              "          element.innerHTML = '';\n",
              "          dataTable['output_type'] = 'display_data';\n",
              "          await google.colab.output.renderOutput(dataTable, element);\n",
              "          const docLink = document.createElement('div');\n",
              "          docLink.innerHTML = docLinkHtml;\n",
              "          element.appendChild(docLink);\n",
              "        }\n",
              "      </script>\n",
              "    </div>\n",
              "  </div>\n",
              "  "
            ]
          },
          "metadata": {},
          "execution_count": 60
        }
      ]
    },
    {
      "cell_type": "code",
      "source": [
        "#위랑 동일한 코드인데, 다 0이 나오는 경우의 조건을 추가\n",
        "df['conclu']=0\n",
        "df['final']=\"I don't know\"\n",
        "\n",
        "for i in range(len(df)):\n",
        "  df['conclu'][i]=df.loc[i,'virginica']+df.loc[i,'versicolor']+df.loc[i,'setosa']\n",
        "\n",
        "for i in range(len(df)):\n",
        "  if df['conclu'][i]==1:\n",
        "    for j in range(len(y_train_list)):\n",
        "      if df.loc[i,y_train_list[j]]==1:\n",
        "        df['final'][i]=y_train_list[j]\n",
        "  elif df['conclu'][i]==0: #이 조건문을 추가해줌\n",
        "    df['final'][i]=y_train_list[0]\n",
        "  else:\n",
        "    for j in range(len(y_train_list)):\n",
        "      if df.loc[i,y_train_list[j]]==1:\n",
        "        df['final'][i]=y_train_list[j]"
      ],
      "metadata": {
        "colab": {
          "base_uri": "https://localhost:8080/"
        },
        "id": "hHBGtcredo4B",
        "outputId": "59d00994-896d-45b2-b923-0fe0149933a4"
      },
      "id": "hHBGtcredo4B",
      "execution_count": 62,
      "outputs": [
        {
          "output_type": "stream",
          "name": "stderr",
          "text": [
            "/usr/local/lib/python3.7/dist-packages/ipykernel_launcher.py:6: SettingWithCopyWarning: \n",
            "A value is trying to be set on a copy of a slice from a DataFrame\n",
            "\n",
            "See the caveats in the documentation: https://pandas.pydata.org/pandas-docs/stable/user_guide/indexing.html#returning-a-view-versus-a-copy\n",
            "  \n",
            "/usr/local/lib/python3.7/dist-packages/ipykernel_launcher.py:12: SettingWithCopyWarning: \n",
            "A value is trying to be set on a copy of a slice from a DataFrame\n",
            "\n",
            "See the caveats in the documentation: https://pandas.pydata.org/pandas-docs/stable/user_guide/indexing.html#returning-a-view-versus-a-copy\n",
            "  if sys.path[0] == '':\n",
            "/usr/local/lib/python3.7/dist-packages/ipykernel_launcher.py:18: SettingWithCopyWarning: \n",
            "A value is trying to be set on a copy of a slice from a DataFrame\n",
            "\n",
            "See the caveats in the documentation: https://pandas.pydata.org/pandas-docs/stable/user_guide/indexing.html#returning-a-view-versus-a-copy\n",
            "/usr/local/lib/python3.7/dist-packages/ipykernel_launcher.py:14: SettingWithCopyWarning: \n",
            "A value is trying to be set on a copy of a slice from a DataFrame\n",
            "\n",
            "See the caveats in the documentation: https://pandas.pydata.org/pandas-docs/stable/user_guide/indexing.html#returning-a-view-versus-a-copy\n",
            "  \n"
          ]
        }
      ]
    },
    {
      "cell_type": "code",
      "source": [
        "df #초기값 idon't know 없음"
      ],
      "metadata": {
        "colab": {
          "base_uri": "https://localhost:8080/",
          "height": 990
        },
        "id": "YX44kundd_Gx",
        "outputId": "15819cd9-2cbb-41f0-bfdf-1450d3261c38"
      },
      "id": "YX44kundd_Gx",
      "execution_count": 63,
      "outputs": [
        {
          "output_type": "execute_result",
          "data": {
            "text/plain": [
              "    virginica  versicolor  setosa       final  conclu\n",
              "0           0           1       0  versicolor       1\n",
              "1           0           1       0  versicolor       1\n",
              "2           1           1       0  versicolor       2\n",
              "3           0           0       1      setosa       1\n",
              "4           0           0       0   virginica       0\n",
              "5           1           0       0   virginica       1\n",
              "6           0           0       1      setosa       1\n",
              "7           1           0       0   virginica       1\n",
              "8           0           0       1      setosa       1\n",
              "9           0           1       0  versicolor       1\n",
              "10          1           0       0   virginica       1\n",
              "11          0           0       1      setosa       1\n",
              "12          0           0       1      setosa       1\n",
              "13          1           0       0   virginica       1\n",
              "14          0           1       0  versicolor       1\n",
              "15          0           1       0  versicolor       1\n",
              "16          0           0       1      setosa       1\n",
              "17          0           1       0  versicolor       1\n",
              "18          0           1       0  versicolor       1\n",
              "19          1           0       0   virginica       1\n",
              "20          0           0       1      setosa       1\n",
              "21          1           0       0   virginica       1\n",
              "22          1           1       0  versicolor       2\n",
              "23          0           1       0  versicolor       1\n",
              "24          1           0       0   virginica       1\n",
              "25          0           0       1      setosa       1\n",
              "26          0           0       1      setosa       1\n",
              "27          1           0       0   virginica       1\n",
              "28          1           0       0   virginica       1\n",
              "29          0           1       0  versicolor       1"
            ],
            "text/html": [
              "\n",
              "  <div id=\"df-ece3f875-3459-4a76-b2c8-68acedc1d061\">\n",
              "    <div class=\"colab-df-container\">\n",
              "      <div>\n",
              "<style scoped>\n",
              "    .dataframe tbody tr th:only-of-type {\n",
              "        vertical-align: middle;\n",
              "    }\n",
              "\n",
              "    .dataframe tbody tr th {\n",
              "        vertical-align: top;\n",
              "    }\n",
              "\n",
              "    .dataframe thead th {\n",
              "        text-align: right;\n",
              "    }\n",
              "</style>\n",
              "<table border=\"1\" class=\"dataframe\">\n",
              "  <thead>\n",
              "    <tr style=\"text-align: right;\">\n",
              "      <th></th>\n",
              "      <th>virginica</th>\n",
              "      <th>versicolor</th>\n",
              "      <th>setosa</th>\n",
              "      <th>final</th>\n",
              "      <th>conclu</th>\n",
              "    </tr>\n",
              "  </thead>\n",
              "  <tbody>\n",
              "    <tr>\n",
              "      <th>0</th>\n",
              "      <td>0</td>\n",
              "      <td>1</td>\n",
              "      <td>0</td>\n",
              "      <td>versicolor</td>\n",
              "      <td>1</td>\n",
              "    </tr>\n",
              "    <tr>\n",
              "      <th>1</th>\n",
              "      <td>0</td>\n",
              "      <td>1</td>\n",
              "      <td>0</td>\n",
              "      <td>versicolor</td>\n",
              "      <td>1</td>\n",
              "    </tr>\n",
              "    <tr>\n",
              "      <th>2</th>\n",
              "      <td>1</td>\n",
              "      <td>1</td>\n",
              "      <td>0</td>\n",
              "      <td>versicolor</td>\n",
              "      <td>2</td>\n",
              "    </tr>\n",
              "    <tr>\n",
              "      <th>3</th>\n",
              "      <td>0</td>\n",
              "      <td>0</td>\n",
              "      <td>1</td>\n",
              "      <td>setosa</td>\n",
              "      <td>1</td>\n",
              "    </tr>\n",
              "    <tr>\n",
              "      <th>4</th>\n",
              "      <td>0</td>\n",
              "      <td>0</td>\n",
              "      <td>0</td>\n",
              "      <td>virginica</td>\n",
              "      <td>0</td>\n",
              "    </tr>\n",
              "    <tr>\n",
              "      <th>5</th>\n",
              "      <td>1</td>\n",
              "      <td>0</td>\n",
              "      <td>0</td>\n",
              "      <td>virginica</td>\n",
              "      <td>1</td>\n",
              "    </tr>\n",
              "    <tr>\n",
              "      <th>6</th>\n",
              "      <td>0</td>\n",
              "      <td>0</td>\n",
              "      <td>1</td>\n",
              "      <td>setosa</td>\n",
              "      <td>1</td>\n",
              "    </tr>\n",
              "    <tr>\n",
              "      <th>7</th>\n",
              "      <td>1</td>\n",
              "      <td>0</td>\n",
              "      <td>0</td>\n",
              "      <td>virginica</td>\n",
              "      <td>1</td>\n",
              "    </tr>\n",
              "    <tr>\n",
              "      <th>8</th>\n",
              "      <td>0</td>\n",
              "      <td>0</td>\n",
              "      <td>1</td>\n",
              "      <td>setosa</td>\n",
              "      <td>1</td>\n",
              "    </tr>\n",
              "    <tr>\n",
              "      <th>9</th>\n",
              "      <td>0</td>\n",
              "      <td>1</td>\n",
              "      <td>0</td>\n",
              "      <td>versicolor</td>\n",
              "      <td>1</td>\n",
              "    </tr>\n",
              "    <tr>\n",
              "      <th>10</th>\n",
              "      <td>1</td>\n",
              "      <td>0</td>\n",
              "      <td>0</td>\n",
              "      <td>virginica</td>\n",
              "      <td>1</td>\n",
              "    </tr>\n",
              "    <tr>\n",
              "      <th>11</th>\n",
              "      <td>0</td>\n",
              "      <td>0</td>\n",
              "      <td>1</td>\n",
              "      <td>setosa</td>\n",
              "      <td>1</td>\n",
              "    </tr>\n",
              "    <tr>\n",
              "      <th>12</th>\n",
              "      <td>0</td>\n",
              "      <td>0</td>\n",
              "      <td>1</td>\n",
              "      <td>setosa</td>\n",
              "      <td>1</td>\n",
              "    </tr>\n",
              "    <tr>\n",
              "      <th>13</th>\n",
              "      <td>1</td>\n",
              "      <td>0</td>\n",
              "      <td>0</td>\n",
              "      <td>virginica</td>\n",
              "      <td>1</td>\n",
              "    </tr>\n",
              "    <tr>\n",
              "      <th>14</th>\n",
              "      <td>0</td>\n",
              "      <td>1</td>\n",
              "      <td>0</td>\n",
              "      <td>versicolor</td>\n",
              "      <td>1</td>\n",
              "    </tr>\n",
              "    <tr>\n",
              "      <th>15</th>\n",
              "      <td>0</td>\n",
              "      <td>1</td>\n",
              "      <td>0</td>\n",
              "      <td>versicolor</td>\n",
              "      <td>1</td>\n",
              "    </tr>\n",
              "    <tr>\n",
              "      <th>16</th>\n",
              "      <td>0</td>\n",
              "      <td>0</td>\n",
              "      <td>1</td>\n",
              "      <td>setosa</td>\n",
              "      <td>1</td>\n",
              "    </tr>\n",
              "    <tr>\n",
              "      <th>17</th>\n",
              "      <td>0</td>\n",
              "      <td>1</td>\n",
              "      <td>0</td>\n",
              "      <td>versicolor</td>\n",
              "      <td>1</td>\n",
              "    </tr>\n",
              "    <tr>\n",
              "      <th>18</th>\n",
              "      <td>0</td>\n",
              "      <td>1</td>\n",
              "      <td>0</td>\n",
              "      <td>versicolor</td>\n",
              "      <td>1</td>\n",
              "    </tr>\n",
              "    <tr>\n",
              "      <th>19</th>\n",
              "      <td>1</td>\n",
              "      <td>0</td>\n",
              "      <td>0</td>\n",
              "      <td>virginica</td>\n",
              "      <td>1</td>\n",
              "    </tr>\n",
              "    <tr>\n",
              "      <th>20</th>\n",
              "      <td>0</td>\n",
              "      <td>0</td>\n",
              "      <td>1</td>\n",
              "      <td>setosa</td>\n",
              "      <td>1</td>\n",
              "    </tr>\n",
              "    <tr>\n",
              "      <th>21</th>\n",
              "      <td>1</td>\n",
              "      <td>0</td>\n",
              "      <td>0</td>\n",
              "      <td>virginica</td>\n",
              "      <td>1</td>\n",
              "    </tr>\n",
              "    <tr>\n",
              "      <th>22</th>\n",
              "      <td>1</td>\n",
              "      <td>1</td>\n",
              "      <td>0</td>\n",
              "      <td>versicolor</td>\n",
              "      <td>2</td>\n",
              "    </tr>\n",
              "    <tr>\n",
              "      <th>23</th>\n",
              "      <td>0</td>\n",
              "      <td>1</td>\n",
              "      <td>0</td>\n",
              "      <td>versicolor</td>\n",
              "      <td>1</td>\n",
              "    </tr>\n",
              "    <tr>\n",
              "      <th>24</th>\n",
              "      <td>1</td>\n",
              "      <td>0</td>\n",
              "      <td>0</td>\n",
              "      <td>virginica</td>\n",
              "      <td>1</td>\n",
              "    </tr>\n",
              "    <tr>\n",
              "      <th>25</th>\n",
              "      <td>0</td>\n",
              "      <td>0</td>\n",
              "      <td>1</td>\n",
              "      <td>setosa</td>\n",
              "      <td>1</td>\n",
              "    </tr>\n",
              "    <tr>\n",
              "      <th>26</th>\n",
              "      <td>0</td>\n",
              "      <td>0</td>\n",
              "      <td>1</td>\n",
              "      <td>setosa</td>\n",
              "      <td>1</td>\n",
              "    </tr>\n",
              "    <tr>\n",
              "      <th>27</th>\n",
              "      <td>1</td>\n",
              "      <td>0</td>\n",
              "      <td>0</td>\n",
              "      <td>virginica</td>\n",
              "      <td>1</td>\n",
              "    </tr>\n",
              "    <tr>\n",
              "      <th>28</th>\n",
              "      <td>1</td>\n",
              "      <td>0</td>\n",
              "      <td>0</td>\n",
              "      <td>virginica</td>\n",
              "      <td>1</td>\n",
              "    </tr>\n",
              "    <tr>\n",
              "      <th>29</th>\n",
              "      <td>0</td>\n",
              "      <td>1</td>\n",
              "      <td>0</td>\n",
              "      <td>versicolor</td>\n",
              "      <td>1</td>\n",
              "    </tr>\n",
              "  </tbody>\n",
              "</table>\n",
              "</div>\n",
              "      <button class=\"colab-df-convert\" onclick=\"convertToInteractive('df-ece3f875-3459-4a76-b2c8-68acedc1d061')\"\n",
              "              title=\"Convert this dataframe to an interactive table.\"\n",
              "              style=\"display:none;\">\n",
              "        \n",
              "  <svg xmlns=\"http://www.w3.org/2000/svg\" height=\"24px\"viewBox=\"0 0 24 24\"\n",
              "       width=\"24px\">\n",
              "    <path d=\"M0 0h24v24H0V0z\" fill=\"none\"/>\n",
              "    <path d=\"M18.56 5.44l.94 2.06.94-2.06 2.06-.94-2.06-.94-.94-2.06-.94 2.06-2.06.94zm-11 1L8.5 8.5l.94-2.06 2.06-.94-2.06-.94L8.5 2.5l-.94 2.06-2.06.94zm10 10l.94 2.06.94-2.06 2.06-.94-2.06-.94-.94-2.06-.94 2.06-2.06.94z\"/><path d=\"M17.41 7.96l-1.37-1.37c-.4-.4-.92-.59-1.43-.59-.52 0-1.04.2-1.43.59L10.3 9.45l-7.72 7.72c-.78.78-.78 2.05 0 2.83L4 21.41c.39.39.9.59 1.41.59.51 0 1.02-.2 1.41-.59l7.78-7.78 2.81-2.81c.8-.78.8-2.07 0-2.86zM5.41 20L4 18.59l7.72-7.72 1.47 1.35L5.41 20z\"/>\n",
              "  </svg>\n",
              "      </button>\n",
              "      \n",
              "  <style>\n",
              "    .colab-df-container {\n",
              "      display:flex;\n",
              "      flex-wrap:wrap;\n",
              "      gap: 12px;\n",
              "    }\n",
              "\n",
              "    .colab-df-convert {\n",
              "      background-color: #E8F0FE;\n",
              "      border: none;\n",
              "      border-radius: 50%;\n",
              "      cursor: pointer;\n",
              "      display: none;\n",
              "      fill: #1967D2;\n",
              "      height: 32px;\n",
              "      padding: 0 0 0 0;\n",
              "      width: 32px;\n",
              "    }\n",
              "\n",
              "    .colab-df-convert:hover {\n",
              "      background-color: #E2EBFA;\n",
              "      box-shadow: 0px 1px 2px rgba(60, 64, 67, 0.3), 0px 1px 3px 1px rgba(60, 64, 67, 0.15);\n",
              "      fill: #174EA6;\n",
              "    }\n",
              "\n",
              "    [theme=dark] .colab-df-convert {\n",
              "      background-color: #3B4455;\n",
              "      fill: #D2E3FC;\n",
              "    }\n",
              "\n",
              "    [theme=dark] .colab-df-convert:hover {\n",
              "      background-color: #434B5C;\n",
              "      box-shadow: 0px 1px 3px 1px rgba(0, 0, 0, 0.15);\n",
              "      filter: drop-shadow(0px 1px 2px rgba(0, 0, 0, 0.3));\n",
              "      fill: #FFFFFF;\n",
              "    }\n",
              "  </style>\n",
              "\n",
              "      <script>\n",
              "        const buttonEl =\n",
              "          document.querySelector('#df-ece3f875-3459-4a76-b2c8-68acedc1d061 button.colab-df-convert');\n",
              "        buttonEl.style.display =\n",
              "          google.colab.kernel.accessAllowed ? 'block' : 'none';\n",
              "\n",
              "        async function convertToInteractive(key) {\n",
              "          const element = document.querySelector('#df-ece3f875-3459-4a76-b2c8-68acedc1d061');\n",
              "          const dataTable =\n",
              "            await google.colab.kernel.invokeFunction('convertToInteractive',\n",
              "                                                     [key], {});\n",
              "          if (!dataTable) return;\n",
              "\n",
              "          const docLinkHtml = 'Like what you see? Visit the ' +\n",
              "            '<a target=\"_blank\" href=https://colab.research.google.com/notebooks/data_table.ipynb>data table notebook</a>'\n",
              "            + ' to learn more about interactive tables.';\n",
              "          element.innerHTML = '';\n",
              "          dataTable['output_type'] = 'display_data';\n",
              "          await google.colab.output.renderOutput(dataTable, element);\n",
              "          const docLink = document.createElement('div');\n",
              "          docLink.innerHTML = docLinkHtml;\n",
              "          element.appendChild(docLink);\n",
              "        }\n",
              "      </script>\n",
              "    </div>\n",
              "  </div>\n",
              "  "
            ]
          },
          "metadata": {},
          "execution_count": 63
        }
      ]
    },
    {
      "cell_type": "markdown",
      "source": [
        "### 위 과정 합쳐서 SVM 구현하기"
      ],
      "metadata": {
        "id": "75OyLhoJeOCF"
      },
      "id": "75OyLhoJeOCF"
    },
    {
      "cell_type": "code",
      "source": [
        "def self_SVM(X_train, X_test, y_train, y_test):\n",
        "  #일단 y값별로 원핫 인코딩 하기 전에 해당 값들을 list 만들어 놓기\n",
        "  y_train_list=list(y_train.unique())\n",
        "  y_train_list\n",
        "\n",
        "  #그리드 서치 범위 정해놓기\n",
        "  param_grid = {'C': [0.001, 0.01, 0.1, 1, 10, 100],\n",
        "                'gamma': [0.001, 0.01, 0.1, 1, 10, 100] }\n",
        "\n",
        "  #해당 예측값이 array로 나오니깐 돌린 결과값을 array에 추가하는 형식으로 하면 될것 같다\n",
        "  semi_final=[]\n",
        "  for i in range(len(y_train_list)):\n",
        "    # list 첫번째 요소(virginica)인지 아닌지 test후 예측값 만들기\n",
        "    model = SVC()\n",
        "    ##하이퍼 파라미터 구하기\n",
        "    grid_search = GridSearchCV(model, param_grid, cv=5, return_train_score=True)\n",
        "    grid_search.fit(X_train, dummies_y_train[y_train_list[i]])\n",
        "    best_params = list(grid_search.best_params_.values())\n",
        "\n",
        "    ##위에서 구한 파라미터 이용하여 모델 만들기\n",
        "    model1=SVC(C=best_params[0],gamma=best_params[1],kernel='rbf')\n",
        "    model1.fit(X_train, dummies_y_train[y_train_list[i]])\n",
        "    pred=model1.predict(X_test)\n",
        "\n",
        "    semi_final.append(pred)\n",
        "\n",
        "  #다루기 쉽게 데이터 프레임으로 만들어 놓기\n",
        "  df=pd.DataFrame(np.transpose(semi_final))\n",
        "  df.columns = y_train_list\n",
        "  \n",
        "  #1이 하나만 있는 경우는 그 값을 결과 값으로, 0만 있는 경우에는 첫번째 열의 값으로, 1이 두개 이상은 맨 마지막 값으로\n",
        "  df['conclu']=0\n",
        "  df['final']=\"I don't know\"\n",
        "\n",
        "  for i in range(len(df)):\n",
        "    df['conclu'][i]=df.loc[i,'virginica']+df.loc[i,'versicolor']+df.loc[i,'setosa']\n",
        "\n",
        "  for i in range(len(df)):\n",
        "    if df['conclu'][i]==1:\n",
        "      for j in range(len(y_train_list)):\n",
        "        if df.loc[i,y_train_list[j]]==1:\n",
        "          df['final'][i]=y_train_list[j]\n",
        "    elif df['conclu'][i]==0: \n",
        "      df['final'][i]=y_train_list[0]\n",
        "    else:\n",
        "      for j in range(len(y_train_list)):\n",
        "        if df.loc[i,y_train_list[j]]==1:\n",
        "          df['final'][i]=y_train_list[j]\n",
        "    \n",
        "  return df['final']\n",
        "  "
      ],
      "metadata": {
        "id": "WfZNMTJDeSbE"
      },
      "id": "WfZNMTJDeSbE",
      "execution_count": 64,
      "outputs": []
    },
    {
      "cell_type": "code",
      "source": [
        "self_SVM(X_train, X_test, y_train, y_test)"
      ],
      "metadata": {
        "colab": {
          "base_uri": "https://localhost:8080/"
        },
        "id": "AfvQPXNVgWTs",
        "outputId": "1f5feea2-c81c-402e-82d1-3d45a1ceb082"
      },
      "id": "AfvQPXNVgWTs",
      "execution_count": 65,
      "outputs": [
        {
          "output_type": "stream",
          "name": "stderr",
          "text": [
            "/usr/local/lib/python3.7/dist-packages/ipykernel_launcher.py:36: SettingWithCopyWarning: \n",
            "A value is trying to be set on a copy of a slice from a DataFrame\n",
            "\n",
            "See the caveats in the documentation: https://pandas.pydata.org/pandas-docs/stable/user_guide/indexing.html#returning-a-view-versus-a-copy\n",
            "/usr/local/lib/python3.7/dist-packages/ipykernel_launcher.py:42: SettingWithCopyWarning: \n",
            "A value is trying to be set on a copy of a slice from a DataFrame\n",
            "\n",
            "See the caveats in the documentation: https://pandas.pydata.org/pandas-docs/stable/user_guide/indexing.html#returning-a-view-versus-a-copy\n",
            "/usr/local/lib/python3.7/dist-packages/ipykernel_launcher.py:48: SettingWithCopyWarning: \n",
            "A value is trying to be set on a copy of a slice from a DataFrame\n",
            "\n",
            "See the caveats in the documentation: https://pandas.pydata.org/pandas-docs/stable/user_guide/indexing.html#returning-a-view-versus-a-copy\n",
            "/usr/local/lib/python3.7/dist-packages/ipykernel_launcher.py:44: SettingWithCopyWarning: \n",
            "A value is trying to be set on a copy of a slice from a DataFrame\n",
            "\n",
            "See the caveats in the documentation: https://pandas.pydata.org/pandas-docs/stable/user_guide/indexing.html#returning-a-view-versus-a-copy\n"
          ]
        },
        {
          "output_type": "execute_result",
          "data": {
            "text/plain": [
              "0     versicolor\n",
              "1     versicolor\n",
              "2     versicolor\n",
              "3         setosa\n",
              "4      virginica\n",
              "5      virginica\n",
              "6         setosa\n",
              "7      virginica\n",
              "8         setosa\n",
              "9     versicolor\n",
              "10     virginica\n",
              "11        setosa\n",
              "12        setosa\n",
              "13     virginica\n",
              "14    versicolor\n",
              "15    versicolor\n",
              "16        setosa\n",
              "17    versicolor\n",
              "18    versicolor\n",
              "19     virginica\n",
              "20        setosa\n",
              "21     virginica\n",
              "22    versicolor\n",
              "23    versicolor\n",
              "24     virginica\n",
              "25        setosa\n",
              "26        setosa\n",
              "27     virginica\n",
              "28     virginica\n",
              "29    versicolor\n",
              "Name: final, dtype: object"
            ]
          },
          "metadata": {},
          "execution_count": 65
        }
      ]
    }
  ],
  "metadata": {
    "kernelspec": {
      "display_name": "Python 3",
      "language": "python",
      "name": "python3"
    },
    "language_info": {
      "codemirror_mode": {
        "name": "ipython",
        "version": 3
      },
      "file_extension": ".py",
      "mimetype": "text/x-python",
      "name": "python",
      "nbconvert_exporter": "python",
      "pygments_lexer": "ipython3",
      "version": "3.8.8"
    },
    "colab": {
      "name": "Assignment.ipynb",
      "provenance": [],
      "collapsed_sections": [
        "EF0U9XWGZZLf",
        "rrBaVnpgZc95"
      ]
    }
  },
  "nbformat": 4,
  "nbformat_minor": 5
}